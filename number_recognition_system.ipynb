{
 "cells": [
  {
   "cell_type": "code",
   "execution_count": null,
   "id": "63da5b6b",
   "metadata": {},
   "outputs": [],
   "source": []
  },
  {
   "cell_type": "code",
   "execution_count": 1,
   "id": "53489778",
   "metadata": {},
   "outputs": [
    {
     "name": "stderr",
     "output_type": "stream",
     "text": [
      "C:\\Users\\Yelim\\anaconda3 a\\lib\\site-packages\\scipy\\__init__.py:146: UserWarning: A NumPy version >=1.16.5 and <1.23.0 is required for this version of SciPy (detected version 1.26.0\n",
      "  warnings.warn(f\"A NumPy version >={np_minversion} and <{np_maxversion}\"\n"
     ]
    }
   ],
   "source": [
    "import numpy as np\n",
    "import pandas as pd\n",
    "import seaborn as sns\n",
    "import matplotlib.pyplot as plt\n",
    "from tensorflow.keras.utils import to_categorical\n",
    "from tensorflow.keras.models import Sequential\n",
    "from tensorflow.keras.layers import Dense, Conv2D, MaxPooling2D, Flatten\n",
    "from tensorflow.math import confusion_matrix"
   ]
  },
  {
   "cell_type": "code",
   "execution_count": 14,
   "id": "c0e053b0",
   "metadata": {},
   "outputs": [],
   "source": [
    "def read_scale_dataset():\n",
    "    train_data = pd.read_csv(\"mnist_test.csv\", header=None)\n",
    "    test_data = pd.read_csv(\"mnist_test.csv\", header=None)\n",
    "    \n",
    "    # visualizing class label frequency in the input data\n",
    "    train_data[0].value_counts().plot.bar(color='cyan')\n",
    "    \n",
    "    X_train = train_data.drop(0, axis=1).values\n",
    "    X_train = X_train.reshape((X_train.shape[0], 28, 28, 1))\n",
    "    X_train = X_train.astype('float32')\n",
    "    X_train = X_train/255.0\n",
    "    \n",
    "    Y_train = train_data[0].values\n",
    "    \n",
    "    X_test = test_data.drop(0, axis=1).values\n",
    "    X_test = X_test.reshape((X_test.shape[0], 28, 28, 1))\n",
    "    X_test = X_test.astype('float32')\n",
    "    X_test = X_test/255.0\n",
    "    \n",
    "    Y_test = test_data[0].values\n",
    "    \n",
    "    return X_train, Y_train, X_test, Y_test\n"
   ]
  },
  {
   "cell_type": "code",
   "execution_count": 15,
   "id": "18b39e9c",
   "metadata": {},
   "outputs": [],
   "source": [
    "def create_model():\n",
    "    model = Sequential([\n",
    "        Conv2D(32, (3,3), kernel_initializer='he_uniform', input_shape=(28,28,1), activation='relu'),\n",
    "        MaxPooling2D((2,2)),\n",
    "        Flatten(),\n",
    "        Dense(128, kernel_initializer='he_uniform', activation='relu'),\n",
    "        Dense(10, activation='softmax')\n",
    "    ])\n",
    "    model.compile(optimizer='adam', loss='sparse_categorical_crossentropy', metrics=['accuracy'])\n",
    "    \n",
    "    return model"
   ]
  },
  {
   "cell_type": "code",
   "execution_count": 16,
   "id": "1c56df7f",
   "metadata": {},
   "outputs": [],
   "source": [
    "def evaluate_model(X_train, Y_train, X_test, Y_test):\n",
    "    # model fitting\n",
    "    model = create_model()\n",
    "    history = model.fit(X_train, Y_train, epochs=20, batch_size=32)\n",
    "    print('\\n\\n')\n",
    "    model.summary()\n",
    "    print('\\n\\n')\n",
    "    model.evaluate(X_test, Y_test)\n",
    "    \n",
    "    return model, history"
   ]
  },
  {
   "cell_type": "code",
   "execution_count": 17,
   "id": "57a13912",
   "metadata": {},
   "outputs": [],
   "source": [
    "def learning_curve(hist):\n",
    "    print('\\n')\n",
    "    plt.subplot(3, 1, 1)\n",
    "    plt.title('Classification Accuracy')\n",
    "    plt.plot(hist.history['accuracy'], color='blue', label='train')\n",
    "    plt.subplot(3, 1, 3)\n",
    "    plt.title('Cross Entropy Loss')\n",
    "    plt.plot(hist.history['loss'], color='red', label='train')\n",
    "    plt.show()"
   ]
  },
  {
   "cell_type": "code",
   "execution_count": 18,
   "id": "be6280f4",
   "metadata": {},
   "outputs": [
    {
     "data": {
      "image/png": "[encoded data removed]",
      "text/plain": [
       "<Figure size 432x288 with 1 Axes>"
      ]
     },
     "metadata": {
      "needs_background": "light"
     },
     "output_type": "display_data"
    }
   ],
   "source": [
    "X_train, Y_train, X_test, Y_test = read_scale_dataset()"
   ]
  },
  {
   "cell_type": "code",
   "execution_count": 19,
   "id": "ae6c0805",
   "metadata": {},
   "outputs": [
    {
     "name": "stdout",
     "output_type": "stream",
     "text": [
      "Class Label 0\n"
     ]
    },
    {
     "data": {
      "text/plain": [
       "<matplotlib.image.AxesImage at 0x2116390bc70>"
      ]
     },
     "execution_count": 19,
     "metadata": {},
     "output_type": "execute_result"
    },
    {
     "data": {
      "image/png": "[encoded data removed]",
      "text/plain": [
       "<Figure size 432x288 with 1 Axes>"
      ]
     },
     "metadata": {
      "needs_background": "light"
     },
     "output_type": "display_data"
    }
   ],
   "source": [
    "print('Class Label', Y_train[440])\n",
    "plt.imshow(X_train[440].reshape(28,28))\n"
   ]
  },
  {
   "cell_type": "code",
   "execution_count": 20,
   "id": "cf263530",
   "metadata": {},
   "outputs": [
    {
     "name": "stdout",
     "output_type": "stream",
     "text": [
      "Epoch 1/20\n",
      "313/313 [==============================] - 8s 20ms/step - loss: 0.3021 - accuracy: 0.9063\n",
      "Epoch 2/20\n",
      "313/313 [==============================] - 6s 21ms/step - loss: 0.0841 - accuracy: 0.9743\n",
      "Epoch 3/20\n",
      "313/313 [==============================] - 6s 20ms/step - loss: 0.0433 - accuracy: 0.9871\n",
      "Epoch 4/20\n",
      "313/313 [==============================] - 6s 20ms/step - loss: 0.0181 - accuracy: 0.9956\n",
      "Epoch 5/20\n",
      "313/313 [==============================] - 6s 21ms/step - loss: 0.0126 - accuracy: 0.9975\n",
      "Epoch 6/20\n",
      "313/313 [==============================] - 6s 20ms/step - loss: 0.0086 - accuracy: 0.9978\n",
      "Epoch 7/20\n",
      "313/313 [==============================] - 6s 21ms/step - loss: 0.0034 - accuracy: 0.9997\n",
      "Epoch 8/20\n",
      "313/313 [==============================] - 6s 20ms/step - loss: 0.0010 - accuracy: 1.0000\n",
      "Epoch 9/20\n",
      "313/313 [==============================] - 6s 20ms/step - loss: 6.2286e-04 - accuracy: 1.0000\n",
      "Epoch 10/20\n",
      "313/313 [==============================] - 6s 20ms/step - loss: 4.7114e-04 - accuracy: 1.0000\n",
      "Epoch 11/20\n",
      "313/313 [==============================] - 6s 20ms/step - loss: 3.5379e-04 - accuracy: 1.0000\n",
      "Epoch 12/20\n",
      "313/313 [==============================] - 6s 20ms/step - loss: 2.7733e-04 - accuracy: 1.0000\n",
      "Epoch 13/20\n",
      "313/313 [==============================] - 7s 21ms/step - loss: 2.3268e-04 - accuracy: 1.0000\n",
      "Epoch 14/20\n",
      "313/313 [==============================] - 6s 20ms/step - loss: 1.9133e-04 - accuracy: 1.0000\n",
      "Epoch 15/20\n",
      "313/313 [==============================] - 6s 20ms/step - loss: 1.5663e-04 - accuracy: 1.0000\n",
      "Epoch 16/20\n",
      "313/313 [==============================] - 6s 20ms/step - loss: 1.3047e-04 - accuracy: 1.0000\n",
      "Epoch 17/20\n",
      "313/313 [==============================] - 6s 21ms/step - loss: 1.0743e-04 - accuracy: 1.0000\n",
      "Epoch 18/20\n",
      "313/313 [==============================] - 6s 20ms/step - loss: 8.8118e-05 - accuracy: 1.0000\n",
      "Epoch 19/20\n",
      "313/313 [==============================] - 7s 21ms/step - loss: 7.3415e-05 - accuracy: 1.0000\n",
      "Epoch 20/20\n",
      "313/313 [==============================] - 9s 27ms/step - loss: 6.1352e-05 - accuracy: 1.0000\n",
      "\n",
      "\n",
      "\n",
      "Model: \"sequential\"\n",
      "_________________________________________________________________\n",
      " Layer (type)                Output Shape              Param #   \n",
      "=================================================================\n",
      " conv2d (Conv2D)             (None, 26, 26, 32)        320       \n",
      "                                                                 \n",
      " max_pooling2d (MaxPooling2  (None, 13, 13, 32)        0         \n",
      " D)                                                              \n",
      "                                                                 \n",
      " flatten (Flatten)           (None, 5408)              0         \n",
      "                                                                 \n",
      " dense (Dense)               (None, 128)               692352    \n",
      "                                                                 \n",
      " dense_1 (Dense)             (None, 10)                1290      \n",
      "                                                                 \n",
      "=================================================================\n",
      "Total params: 693962 (2.65 MB)\n",
      "Trainable params: 693962 (2.65 MB)\n",
      "Non-trainable params: 0 (0.00 Byte)\n",
      "_________________________________________________________________\n",
      "\n",
      "\n",
      "\n",
      "313/313 [==============================] - 4s 11ms/step - loss: 5.4302e-05 - accuracy: 1.0000\n"
     ]
    }
   ],
   "source": [
    "model, history = evaluate_model(X_train, Y_train, X_test, Y_test)"
   ]
  },
  {
   "cell_type": "code",
   "execution_count": 21,
   "id": "73973de3",
   "metadata": {},
   "outputs": [
    {
     "name": "stdout",
     "output_type": "stream",
     "text": [
      "313/313 [==============================] - 3s 8ms/step\n"
     ]
    }
   ],
   "source": [
    "Y_pred = model.predict(X_test)\n"
   ]
  },
  {
   "cell_type": "code",
   "execution_count": 22,
   "id": "05fe7c9e",
   "metadata": {},
   "outputs": [
    {
     "name": "stdout",
     "output_type": "stream",
     "text": [
      "\n",
      "\n",
      "\n"
     ]
    },
    {
     "data": {
      "image/png": "[encoded data removed]",
      "text/plain": [
       "<Figure size 1080x720 with 2 Axes>"
      ]
     },
     "metadata": {
      "needs_background": "light"
     },
     "output_type": "display_data"
    }
   ],
   "source": [
    "# confusion matrix\n",
    "cf = confusion_matrix(labels=Y_test, predictions=[np.argmax(i) for i in Y_pred])\n",
    "plt.figure(figsize=(15,10))\n",
    "sns.heatmap(cf, annot=True, fmt='d', cmap='BuPu');\n",
    "print('\\n\\n')\n"
   ]
  },
  {
   "cell_type": "code",
   "execution_count": 24,
   "id": "82158a4f",
   "metadata": {},
   "outputs": [
    {
     "name": "stdout",
     "output_type": "stream",
     "text": [
      "\n",
      "Actual label:  8\n",
      "Predicted label:  9\n",
      "The corresponding Image: \n",
      "\n",
      "\n"
     ]
    },
    {
     "data": {
      "image/png": "[encoded data removed]",
      "text/plain": [
       "<Figure size 432x288 with 2 Axes>"
      ]
     },
     "metadata": {
      "needs_background": "light"
     },
     "output_type": "display_data"
    }
   ],
   "source": [
    "# manually checking authenticity of model in terms of predictions\n",
    "print(\"\\nActual label: \", Y_test[781])\n",
    "print(\"Predicted label: \", np.argmax(Y_pred[78]))\n",
    "print(\"The corresponding Image: \")\n",
    "plt.imshow(X_test[781].reshape(28,28))\n",
    "learning_curve(history)"
   ]
  }
 ],
 "metadata": {
  "kernelspec": {
   "display_name": "Python 3 (ipykernel)",
   "language": "python",
   "name": "python3"
  },
  "language_info": {
   "codemirror_mode": {
    "name": "ipython",
    "version": 3
   },
   "file_extension": ".py",
   "mimetype": "text/x-python",
   "name": "python",
   "nbconvert_exporter": "python",
   "pygments_lexer": "ipython3",
   "version": "3.9.7"
  }
 },
 "nbformat": 4,
 "nbformat_minor": 5
}
